{
 "cells": [
  {
   "cell_type": "code",
   "execution_count": 11,
   "id": "86784919",
   "metadata": {},
   "outputs": [
    {
     "name": "stdout",
     "output_type": "stream",
     "text": [
      "Enter the no. of nodes6\n",
      "Enter one connection in each line eg: x y\n",
      "0 6 -1 -1\n",
      "1 2 -1 -1\n",
      "1 3 -1 -1\n",
      "2 4 -1 -1\n",
      "3 6 -1 -1\n",
      "4 5 -1 -1\n",
      "-1 -1\n",
      "Enter source and level (space separated): 1 2 \n",
      "Nodes at level  2 From Node:  1 are:  [4, 6]\n"
     ]
    }
   ],
   "source": [
    "class Node:\n",
    "    \n",
    "    #Class constructor\n",
    "    def __init__(self, id):\n",
    "        self.id = id\n",
    "\n",
    "    #Equivalent to \"toString\" method in Java\n",
    "    def __str__(self):\n",
    "        return \"Node Id: \"+str(id)\n",
    "    \n",
    "class CustomGraph:\n",
    "\n",
    "    def __init__(self, nUsers):\n",
    "        self.n = nUsers\n",
    "        self.network = {}\n",
    "\n",
    "        \"\"\"\n",
    "        Plan to Store the Graph as a HashMap of List (in terms of JAVA)\n",
    "        HashMap<Integer, List<Node>>\n",
    "        \"\"\"\n",
    "    \n",
    "    def readGraph(self):\n",
    "        print(\"Enter one connection in each line eg: x y\")\n",
    "        while True:\n",
    "            nodes = list(map(lambda id: Node(int(id)) ,input().split(\" \")))\n",
    "            \n",
    "            if nodes[0].id == -1 and nodes[1].id == -1:\n",
    "                break\n",
    "            \n",
    "            #creating a bi-directional edge/connection\n",
    "            self.network.setdefault(nodes[0].id, []).append(nodes[1])\n",
    "            self.network.setdefault(nodes[1].id, []).append(nodes[0])\n",
    "\n",
    "    def nodesAtLevelN(self, source, level):\n",
    "        visited = {}\n",
    "        currList = [source]\n",
    "        return self._findNodesHelper(currList, 0, level, visited)\n",
    "\n",
    "    def _findNodesHelper(self, currList, currLvl, tgtLvl, visited):\n",
    "        if currLvl == tgtLvl:\n",
    "            # print(\"Final List: \", currList)\n",
    "            return currList\n",
    "            \n",
    "        # print(\"Current List: \", currList)\n",
    "        # print(visited)\n",
    "        \n",
    "        childNodes = []\n",
    "        for id in currList:\n",
    "            connections = self.network[id]\n",
    "            unvisitedConns = list(filter(lambda node: not visited.get(node.id, False), connections))\n",
    "            unvIDs = list(map(lambda node: node.id, unvisitedConns))\n",
    "            # print(\"Unvisited IDs of \", id, \": \" ,unvIDs)\n",
    "            childNodes.extend(unvIDs)\n",
    "            visited[id] = True\n",
    "        \n",
    "        # print(\"ChildNodes lvl: \", currLvl, \": \", childNodes)\n",
    "        return self._findNodesHelper(childNodes, currLvl+1, tgtLvl, visited)\n",
    "\n",
    "    #Just for testing\n",
    "    def staticGraph(self):\n",
    "        self.network[1] = [Node(2), Node(4)]\n",
    "        self.network[2] = [Node(1),Node(3), Node(5)]\n",
    "        self.network[3] = [Node(2)]\n",
    "        self.network[4] = [Node(1)]\n",
    "        self.network[5] = [Node(2)]\n",
    "\n",
    "    def __str__(self):\n",
    "        toDisplay = \"\"\n",
    "        for id in self.network.keys():\n",
    "            toDisplay += str(id) + \"--> \" + ', '.join(map(lambda node: str(node.id), self.network[id])) + \"\\n\"\n",
    "\n",
    "        return toDisplay+\"\\n\"\n",
    "\n",
    "if __name__ == '__main__':\n",
    "    nUsers = int(input(\"Enter the no. of nodes\"))\n",
    "    g = CustomGraph(nUsers)\n",
    "    g.readGraph()\n",
    "    # g.staticGraph()\n",
    "    # lvlNNodes = g.nodesAtLevelN(1, 2)\n",
    "    \n",
    "    src, lvl = list(map(int, input(\"Enter source and level (space separated): \").split()))\n",
    "    lvlNNodes = g.nodesAtLevelN(src, lvl)\n",
    "    \n",
    "    print(\"Nodes at level \",lvl,\"From Node: \",src,\"are: \", lvlNNodes)\n"
   ]
  },
  {
   "cell_type": "code",
   "execution_count": null,
   "id": "3e5869ec",
   "metadata": {},
   "outputs": [],
   "source": []
  },
  {
   "cell_type": "code",
   "execution_count": 12,
   "id": "77d0b92c",
   "metadata": {},
   "outputs": [
    {
     "name": "stdout",
     "output_type": "stream",
     "text": [
      "Requirement already satisfied: neo4j in /Users/a.akshayrajsingh/opt/anaconda3/lib/python3.9/site-packages (5.2.0)\r\n",
      "Requirement already satisfied: pytz in /Users/a.akshayrajsingh/opt/anaconda3/lib/python3.9/site-packages (from neo4j) (2022.1)\r\n"
     ]
    }
   ],
   "source": [
    "!pip install neo4j"
   ]
  },
  {
   "cell_type": "code",
   "execution_count": 13,
   "id": "0521401a",
   "metadata": {},
   "outputs": [],
   "source": [
    "from neo4j import GraphDatabase"
   ]
  },
  {
   "cell_type": "code",
   "execution_count": 14,
   "id": "b3b5f6d3",
   "metadata": {},
   "outputs": [],
   "source": [
    "graphdb=GraphDatabase.driver(uri=\"bolt://localhost:7687\",auth=(\"neo4j\",\"12345\"))"
   ]
  },
  {
   "cell_type": "code",
   "execution_count": 15,
   "id": "971ce4eb",
   "metadata": {},
   "outputs": [
    {
     "data": {
      "text/plain": [
       "<neo4j._sync.driver.BoltDriver at 0x7fd3e8e05280>"
      ]
     },
     "execution_count": 15,
     "metadata": {},
     "output_type": "execute_result"
    }
   ],
   "source": [
    "graphdb"
   ]
  },
  {
   "cell_type": "code",
   "execution_count": 16,
   "id": "80f6f2b4",
   "metadata": {},
   "outputs": [
    {
     "name": "stdout",
     "output_type": "stream",
     "text": [
      "<Record n=<Node element_id='0' labels=frozenset({'User'}) properties={'name': 'Bob', 'id': 1}>>\n",
      "<Record n=<Node element_id='1' labels=frozenset({'User'}) properties={'name': 'Peter', 'id': 2}>>\n",
      "<Record n=<Node element_id='2' labels=frozenset({'User'}) properties={'name': 'Ana', 'id': 3}>>\n",
      "<Record n=<Node element_id='3' labels=frozenset({'User'}) properties={'name': 'Camila', 'id': 4}>>\n",
      "<Record n=<Node element_id='4' labels=frozenset({'User'}) properties={'name': 'Roger', 'id': 5}>>\n",
      "<Record n=<Node element_id='5' labels=frozenset({'User'}) properties={'name': 'Priya', 'id': 6}>>\n",
      "<Record n=<Node element_id='6' labels=frozenset({'User'}) properties={'name': 'Rob', 'id': 7}>>\n",
      "<Record n=<Node element_id='7' labels=frozenset({'User'}) properties={'name': 'Richard', 'id': 8}>>\n",
      "<Record n=<Node element_id='8' labels=frozenset({'User'}) properties={'name': 'Amy', 'id': 9}>>\n"
     ]
    }
   ],
   "source": [
    "#searching node\n",
    "session=graphdb.session()\n",
    "q1=\"MATCH (n) return n LIMIT 10\"\n",
    "nodes=session.run(q1)\n",
    "for node in nodes:\n",
    "    print(node)"
   ]
  },
  {
   "cell_type": "code",
   "execution_count": 17,
   "id": "ac66f52c",
   "metadata": {},
   "outputs": [
    {
     "name": "stdout",
     "output_type": "stream",
     "text": [
      "<Record n=<Node element_id='2' labels=frozenset({'User'}) properties={'name': 'Ana', 'id': 3}>>\n",
      "<Record n=<Node element_id='8' labels=frozenset({'User'}) properties={'name': 'Amy', 'id': 9}>>\n"
     ]
    }
   ],
   "source": [
    "session=graphdb.session()\n",
    "q1=\"Match (p:User)-[*3]->(n:User) where p.name = 'Bob'  return distinct n\"\n",
    "nodes=session.run(q1)\n",
    "for node in nodes:\n",
    "    print(node)"
   ]
  },
  {
   "cell_type": "code",
   "execution_count": null,
   "id": "06707f74",
   "metadata": {},
   "outputs": [],
   "source": []
  }
 ],
 "metadata": {
  "kernelspec": {
   "display_name": "Python 3 (ipykernel)",
   "language": "python",
   "name": "python3"
  },
  "language_info": {
   "codemirror_mode": {
    "name": "ipython",
    "version": 3
   },
   "file_extension": ".py",
   "mimetype": "text/x-python",
   "name": "python",
   "nbconvert_exporter": "python",
   "pygments_lexer": "ipython3",
   "version": "3.9.13"
  }
 },
 "nbformat": 4,
 "nbformat_minor": 5
}
