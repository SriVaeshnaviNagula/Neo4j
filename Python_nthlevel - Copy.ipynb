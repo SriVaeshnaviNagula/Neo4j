{
 "cells": [
  {
   "cell_type": "code",
   "execution_count": 1,
   "id": "18538934",
   "metadata": {},
   "outputs": [
    {
     "name": "stdout",
     "output_type": "stream",
     "text": [
      "Requirement already satisfied: neo4j in /Users/a.akshayrajsingh/opt/anaconda3/lib/python3.9/site-packages (5.2.0)\r\n",
      "Requirement already satisfied: pytz in /Users/a.akshayrajsingh/opt/anaconda3/lib/python3.9/site-packages (from neo4j) (2022.1)\r\n"
     ]
    }
   ],
   "source": [
    "!pip install neo4j"
   ]
  },
  {
   "cell_type": "code",
   "execution_count": 2,
   "id": "192ea904",
   "metadata": {},
   "outputs": [],
   "source": [
    "from neo4j import GraphDatabase"
   ]
  },
  {
   "cell_type": "code",
   "execution_count": 3,
   "id": "698124cc",
   "metadata": {},
   "outputs": [],
   "source": [
    "graphdb=GraphDatabase.driver(uri=\"bolt://localhost:7687\",auth=(\"neo4j\",\"12345\"))"
   ]
  },
  {
   "cell_type": "code",
   "execution_count": 4,
   "id": "c5b569c8",
   "metadata": {},
   "outputs": [
    {
     "data": {
      "text/plain": [
       "<neo4j._sync.driver.BoltDriver at 0x7fc10908a0d0>"
      ]
     },
     "execution_count": 4,
     "metadata": {},
     "output_type": "execute_result"
    }
   ],
   "source": [
    "graphdb"
   ]
  },
  {
   "cell_type": "code",
   "execution_count": 6,
   "id": "24ef4fae",
   "metadata": {},
   "outputs": [
    {
     "name": "stdout",
     "output_type": "stream",
     "text": [
      "<Record n=<Node element_id='0' labels=frozenset({'User'}) properties={'name': 'Bob', 'id': 1}>>\n",
      "<Record n=<Node element_id='1' labels=frozenset({'User'}) properties={'name': 'Peter', 'id': 2}>>\n",
      "<Record n=<Node element_id='2' labels=frozenset({'User'}) properties={'name': 'Ana', 'id': 3}>>\n",
      "<Record n=<Node element_id='3' labels=frozenset({'User'}) properties={'name': 'Camila', 'id': 4}>>\n",
      "<Record n=<Node element_id='4' labels=frozenset({'User'}) properties={'name': 'Roger', 'id': 5}>>\n",
      "<Record n=<Node element_id='5' labels=frozenset({'User'}) properties={'name': 'Priya', 'id': 6}>>\n",
      "<Record n=<Node element_id='6' labels=frozenset({'User'}) properties={'name': 'Rob', 'id': 7}>>\n",
      "<Record n=<Node element_id='7' labels=frozenset({'User'}) properties={'name': 'Richard', 'id': 8}>>\n",
      "<Record n=<Node element_id='8' labels=frozenset({'User'}) properties={'name': 'Amy', 'id': 9}>>\n"
     ]
    }
   ],
   "source": [
    "#searching node\n",
    "session=graphdb.session()\n",
    "q1=\"MATCH (n) return n LIMIT 10\"\n",
    "nodes=session.run(q1)\n",
    "for node in nodes:\n",
    "    print(node)"
   ]
  },
  {
   "cell_type": "code",
   "execution_count": 7,
   "id": "e0cfe274",
   "metadata": {},
   "outputs": [
    {
     "name": "stdout",
     "output_type": "stream",
     "text": [
      "<Record n=<Node element_id='2' labels=frozenset({'User'}) properties={'name': 'Ana', 'id': 3}>>\n",
      "<Record n=<Node element_id='8' labels=frozenset({'User'}) properties={'name': 'Amy', 'id': 9}>>\n"
     ]
    }
   ],
   "source": [
    "session=graphdb.session()\n",
    "q1=\"Match (p:User)-[*3]->(n:User) where p.name = 'Bob'  return distinct n\"\n",
    "nodes=session.run(q1)\n",
    "for node in nodes:\n",
    "    print(node)"
   ]
  },
  {
   "cell_type": "code",
   "execution_count": null,
   "id": "d5b1e415",
   "metadata": {},
   "outputs": [],
   "source": []
  }
 ],
 "metadata": {
  "kernelspec": {
   "display_name": "Python 3 (ipykernel)",
   "language": "python",
   "name": "python3"
  },
  "language_info": {
   "codemirror_mode": {
    "name": "ipython",
    "version": 3
   },
   "file_extension": ".py",
   "mimetype": "text/x-python",
   "name": "python",
   "nbconvert_exporter": "python",
   "pygments_lexer": "ipython3",
   "version": "3.9.13"
  }
 },
 "nbformat": 4,
 "nbformat_minor": 5
}
